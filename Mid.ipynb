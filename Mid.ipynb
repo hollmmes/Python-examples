{
 "cells": [
  {
   "cell_type": "code",
   "execution_count": 10,
   "metadata": {},
   "outputs": [],
   "source": [
    "dosya=open(\"C:\\\\Users\\\\tfnca\\\\Desktop\\\\py\\\\ilk_dosya.txt\", \"w\")\n",
    "print(\"allah\\nValla\\nyok\",file=dosya)\n"
   ]
  },
  {
   "cell_type": "code",
   "execution_count": 3,
   "metadata": {},
   "outputs": [
    {
     "name": "stdout",
     "output_type": "stream",
     "text": [
      "['allah\\n', 'Valla\\n', 'yok\\n']\n"
     ]
    }
   ],
   "source": [
    "dosya=open(\"ilk_dosya.txt\")\n",
    "print(dosya.readlines())"
   ]
  },
  {
   "cell_type": "code",
   "execution_count": 12,
   "metadata": {},
   "outputs": [],
   "source": [
    "with open(\"ilk_dosya.txt\",\"a\") as dosya:\n",
    "    dosya.write(\"\\nAllah var ulan\")"
   ]
  },
  {
   "cell_type": "code",
   "execution_count": 8,
   "metadata": {},
   "outputs": [],
   "source": [
    "with open(\"ilk_dosya.txt\",\"r+\") as dosya:\n",
    "    dosyaoku=dosya.read()\n",
    "    dosya.seek(0)\n",
    "    dosya.write(\"Allah var mı yok mu\\n\" +dosyaoku)"
   ]
  },
  {
   "cell_type": "code",
   "execution_count": 13,
   "metadata": {},
   "outputs": [
    {
     "name": "stdout",
     "output_type": "stream",
     "text": [
      "allah\n",
      "Valla\n",
      "yok\n",
      "\n",
      "Allah var ulan\n"
     ]
    }
   ],
   "source": [
    "dosya=open(\"ilk_dosya.txt\")\n",
    "print(dosya.read())\n"
   ]
  }
 ],
 "metadata": {
  "kernelspec": {
   "display_name": "Python 3",
   "language": "python",
   "name": "python3"
  },
  "language_info": {
   "codemirror_mode": {
    "name": "ipython",
    "version": 3
   },
   "file_extension": ".py",
   "mimetype": "text/x-python",
   "name": "python",
   "nbconvert_exporter": "python",
   "pygments_lexer": "ipython3",
   "version": "3.11.1"
  },
  "orig_nbformat": 4
 },
 "nbformat": 4,
 "nbformat_minor": 2
}
